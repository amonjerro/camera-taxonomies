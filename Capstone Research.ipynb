{
 "cells": [
  {
   "cell_type": "code",
   "execution_count": 1,
   "id": "e6151211-e852-4db3-838e-065a7ca976d0",
   "metadata": {},
   "outputs": [],
   "source": [
    "import pandas as pd\n",
    "import numpy as np"
   ]
  },
  {
   "cell_type": "code",
   "execution_count": 2,
   "id": "1631e08d-6136-448d-8ea7-2707c000e13f",
   "metadata": {},
   "outputs": [],
   "source": [
    "from scipy.sparse.csgraph import minimum_spanning_tree"
   ]
  },
  {
   "cell_type": "code",
   "execution_count": 3,
   "id": "4f1f43d2-e668-43f0-8bf8-98d52d73678f",
   "metadata": {},
   "outputs": [],
   "source": [
    "from sklearn.cluster import HDBSCAN, DBSCAN\n",
    "from sklearn.metrics import DistanceMetric"
   ]
  },
  {
   "cell_type": "code",
   "execution_count": 4,
   "id": "3babefe2-8e46-4481-bd62-787b35041e3e",
   "metadata": {},
   "outputs": [],
   "source": [
    "import matplotlib.pyplot as plt"
   ]
  },
  {
   "cell_type": "code",
   "execution_count": 5,
   "id": "32b3c65e-bdbc-4881-9f27-042874473f87",
   "metadata": {},
   "outputs": [],
   "source": [
    "data = pd.read_csv('data.csv', header=0)"
   ]
  },
  {
   "cell_type": "markdown",
   "id": "2a754a96-7f7c-4682-804d-13531c64bf6f",
   "metadata": {},
   "source": [
    "## Implementation of DBCV calculation functions\n",
    "Adapted from https://github.com/christopherjenness/DBCV/blob/master/DBCV/DBCV.py to account for the precomputed Gower distance.\n",
    "In addition, a correction to that code has been made. The [literature](https://www.dbs.ifi.lmu.de/~zimek/publications/SDM2014/DBCV.pdf) detailing the process DBCV says in Definition 4 that _l_ minimum spanning trees need to be created for the evaluation of DBCV. The referenced code only created one MST.\n",
    "This also means we have to correct how the density separation is calculated. The literature offers the following:\n",
    "\n",
    "`The Density Separation of a Pair of Clusters (DSPC) Ci\n",
    "and Cj , 1 ≤ i, j ≤ l, i 6 = j, is defined as the minimum\n",
    "reachability distance between the internal nodes of the\n",
    "MST MRD s of clusters Ci and Cj .`\n",
    "\n",
    "Therefore, the calculation should be to find the minimum mutual reach distance within the internal elements of two different clusters.\n"
   ]
  },
  {
   "cell_type": "code",
   "execution_count": 7,
   "id": "0ba6bec1-fa95-494e-aec5-3a12001ab4d6",
   "metadata": {},
   "outputs": [],
   "source": [
    "def get_class_members(x, labels, c):\n",
    "    indices = np.where(labels == c)[0]\n",
    "    members = x[indices]\n",
    "    return members\n",
    "\n",
    "def get_neighbor_distance(i, xDist, labels, c):\n",
    "    indices = np.where(labels == c)[0]\n",
    "    distanceValues = xDist[i, indices]\n",
    "    return distanceValues[distanceValues != 0]"
   ]
  },
  {
   "cell_type": "code",
   "execution_count": 8,
   "id": "b469a8a3-2921-466b-a351-cdff0ec05ecf",
   "metadata": {},
   "outputs": [],
   "source": [
    "def core_distance(knn, cN, features):\n",
    "    \"\"\"\n",
    "    Calculate the core distance \n",
    "    \"\"\"\n",
    "    if cN == 0:\n",
    "        return 0.001\n",
    "\n",
    "    if len(knn) == 0:\n",
    "        return 0.001\n",
    "    \n",
    "    numerator = ((1/knn)**features).sum()\n",
    "    core_dist = (numerator/(cN))**(-1/features)\n",
    "    return core_dist\n",
    "\n",
    "def mutual_reach_dist(ab_distance, a_member_distance, a_cN, b_member_distance, b_cN, features):\n",
    "    core_dist_a = core_distance(a_member_distance, a_cN, features)\n",
    "    core_dist_b = core_distance(b_member_distance, b_cN, features)\n",
    "    mutual_reachability = np.max([core_dist_a, core_dist_b, ab_distance])\n",
    "    return mutual_reachability\n",
    "    \n",
    "def reach_distance_graph(x, labels, dist):\n",
    "    graph = []\n",
    "    samples = x.shape[0]\n",
    "    features = x.shape[1]\n",
    "    # Calculate core distances\n",
    "    for row in range(samples):\n",
    "        graphRow = []\n",
    "        class_i = clustering.labels_[row]\n",
    "        members_i = get_class_members(x, labels, class_i)\n",
    "        i_cN = len(members_i)\n",
    "        distance_vector_i = get_neighbor_distance(row, dist, labels, class_i)\n",
    "\n",
    "        #Calculate mutual reach distance against every other sample\n",
    "        for col in range(samples):\n",
    "            precomputed_distance = distances[row][col]\n",
    "            class_j = clustering.labels_[col]\n",
    "            members_j = get_class_members(x, labels, class_j)\n",
    "            j_cN = len(members_j)\n",
    "            distance_vector_j = get_neighbor_distance(col, dist, labels, class_j)\n",
    "            mutual_dist = mutual_reach_dist(precomputed_distance, distance_vector_i, i_cN, distance_vector_j, j_cN, features)\n",
    "            graphRow.append(mutual_dist)\n",
    "        graph.append(graphRow)\n",
    "    graph = np.array(graph)\n",
    "    return graph\n",
    "            "
   ]
  },
  {
   "cell_type": "code",
   "execution_count": 30,
   "id": "691920ee-dc8e-4c44-a3bd-a60b376bb4cc",
   "metadata": {},
   "outputs": [],
   "source": [
    "def mutual_reach_dist_mst(graph, clusters, cluster):\n",
    "    # This part has been corrected from the referenced implementation.\n",
    "    # Literature says it has to be l minimum spanning trees, not one single MST\n",
    "    indices = np.where(clusters == cluster)[0]\n",
    "    subgraph = graph[indices][:, indices]\n",
    "    mst = minimum_spanning_tree(subgraph).toarray()\n",
    "    return mst + np.transpose(mst)\n",
    "\n",
    "def density_sparseness(mst):\n",
    "    (internal_node_indeces, internal_node_weights) = get_internal_nodes(mst)\n",
    "    return np.max(internal_node_weights)\n",
    "\n",
    "def density_separation(graph, clusters, cluster_i, cluster_j, mst_i, mst_j):\n",
    "    dist = np.inf\n",
    "\n",
    "    # Get the MRDs corresponding to cluster i and the internal nodes for its MST\n",
    "    indeces_i = np.where(clusters == cluster_i)[0]\n",
    "    (internal_indices_i, iew) = get_internal_nodes(mst_i)\n",
    "    # Do the same for cluster J\n",
    "    indeces_j = np.where(clusters == cluster_j)[0]\n",
    "    (internal_indices_j, iew) = get_internal_nodes(mst_j)\n",
    "\n",
    "    # Find the minimum MRDs between these internal nodes\n",
    "    for i in internal_indices_i:\n",
    "        for j in internal_indices_j:\n",
    "            mrd = graph[indeces_i[i], indeces_j[j]]\n",
    "            if mrd < dist:\n",
    "                dist = mrd\n",
    "\n",
    "    return dist\n",
    "\n",
    "def cluster_validity_index(graph, msts, labels, cluster):\n",
    "    min_density_sep = np.inf\n",
    "    for cluster_j in np.unique(labels):\n",
    "        if cluster_j != cluster:\n",
    "            cluster_density_sep = density_separation(graph, labels, cluster, cluster_j, msts[cluster], msts[cluster_j])\n",
    "            if cluster_density_sep < min_density_sep:\n",
    "                min_density_sep = cluster_density_sep\n",
    "\n",
    "    cluster_density_sparseness = density_sparseness(msts[cluster])\n",
    "    numerator = min_density_sep - cluster_density_sparseness\n",
    "    denominator = np.max([min_density_sep, cluster_density_sparseness])\n",
    "    return numerator / denominator\n",
    "\n",
    "def get_validity_index(graph, msts, labels, samples):\n",
    "    validity_index = 0\n",
    "    for label in np.unique(labels):\n",
    "        fraction = np.sum(labels == label) / float(samples)\n",
    "        cluster_validity = cluster_validity_index(graph, msts, labels, label)\n",
    "        validity_index += fraction * cluster_validity\n",
    "    return validity_index\n",
    "\n",
    "def get_internal_nodes(mst):\n",
    "    # Create adjacency matrix\n",
    "    is_mst_edges = (mst > 0).astype(int, copy=False)\n",
    "\n",
    "    # Get the indeces within the MST\n",
    "    internal_node_indeces = is_mst_edges.sum(axis = 0) > 1\n",
    "    internal_node_indeces = np.flatnonzero(internal_node_indeces)\n",
    "\n",
    "    internal_edge_weights = mst[internal_node_indeces][mst[internal_node_indeces].nonzero()]\n",
    "    return (internal_node_indeces, internal_edge_weights)"
   ]
  },
  {
   "cell_type": "markdown",
   "id": "06aef1eb-fc77-4cd5-aa6d-e0b9132f0f60",
   "metadata": {},
   "source": [
    "# Data preparation"
   ]
  },
  {
   "cell_type": "code",
   "execution_count": 11,
   "id": "69dbb596-3696-41a8-bee1-b67acee5a044",
   "metadata": {},
   "outputs": [
    {
     "data": {
      "text/html": [
       "<div>\n",
       "<style scoped>\n",
       "    .dataframe tbody tr th:only-of-type {\n",
       "        vertical-align: middle;\n",
       "    }\n",
       "\n",
       "    .dataframe tbody tr th {\n",
       "        vertical-align: top;\n",
       "    }\n",
       "\n",
       "    .dataframe thead th {\n",
       "        text-align: right;\n",
       "    }\n",
       "</style>\n",
       "<table border=\"1\" class=\"dataframe\">\n",
       "  <thead>\n",
       "    <tr style=\"text-align: right;\">\n",
       "      <th></th>\n",
       "      <th>Persp/Ortho</th>\n",
       "      <th>Degrees of Freedom</th>\n",
       "      <th>Degrees of Control</th>\n",
       "      <th>Camera Control Varies</th>\n",
       "      <th>Has Z-Targeting</th>\n",
       "      <th>Min Screen Vert Third</th>\n",
       "      <th>Max Screen Vert Third</th>\n",
       "      <th>Min Screen Height</th>\n",
       "      <th>Max Screen Height</th>\n",
       "      <th>Camera Cuts</th>\n",
       "    </tr>\n",
       "  </thead>\n",
       "  <tbody>\n",
       "    <tr>\n",
       "      <th>0</th>\n",
       "      <td>0</td>\n",
       "      <td>3</td>\n",
       "      <td>0</td>\n",
       "      <td>0</td>\n",
       "      <td>0</td>\n",
       "      <td>2</td>\n",
       "      <td>2</td>\n",
       "      <td>1</td>\n",
       "      <td>1</td>\n",
       "      <td>0</td>\n",
       "    </tr>\n",
       "    <tr>\n",
       "      <th>1</th>\n",
       "      <td>1</td>\n",
       "      <td>5</td>\n",
       "      <td>2</td>\n",
       "      <td>1</td>\n",
       "      <td>0</td>\n",
       "      <td>1</td>\n",
       "      <td>3</td>\n",
       "      <td>1</td>\n",
       "      <td>3</td>\n",
       "      <td>1</td>\n",
       "    </tr>\n",
       "    <tr>\n",
       "      <th>2</th>\n",
       "      <td>1</td>\n",
       "      <td>5</td>\n",
       "      <td>2</td>\n",
       "      <td>1</td>\n",
       "      <td>1</td>\n",
       "      <td>1</td>\n",
       "      <td>1</td>\n",
       "      <td>2</td>\n",
       "      <td>2</td>\n",
       "      <td>0</td>\n",
       "    </tr>\n",
       "    <tr>\n",
       "      <th>3</th>\n",
       "      <td>1</td>\n",
       "      <td>4</td>\n",
       "      <td>0</td>\n",
       "      <td>1</td>\n",
       "      <td>0</td>\n",
       "      <td>2</td>\n",
       "      <td>2</td>\n",
       "      <td>1</td>\n",
       "      <td>3</td>\n",
       "      <td>1</td>\n",
       "    </tr>\n",
       "    <tr>\n",
       "      <th>4</th>\n",
       "      <td>1</td>\n",
       "      <td>4</td>\n",
       "      <td>0</td>\n",
       "      <td>0</td>\n",
       "      <td>0</td>\n",
       "      <td>1</td>\n",
       "      <td>3</td>\n",
       "      <td>1</td>\n",
       "      <td>3</td>\n",
       "      <td>1</td>\n",
       "    </tr>\n",
       "  </tbody>\n",
       "</table>\n",
       "</div>"
      ],
      "text/plain": [
       "   Persp/Ortho  Degrees of Freedom  Degrees of Control  Camera Control Varies  \\\n",
       "0            0                   3                   0                      0   \n",
       "1            1                   5                   2                      1   \n",
       "2            1                   5                   2                      1   \n",
       "3            1                   4                   0                      1   \n",
       "4            1                   4                   0                      0   \n",
       "\n",
       "   Has Z-Targeting  Min Screen Vert Third  Max Screen Vert Third  \\\n",
       "0                0                      2                      2   \n",
       "1                0                      1                      3   \n",
       "2                1                      1                      1   \n",
       "3                0                      2                      2   \n",
       "4                0                      1                      3   \n",
       "\n",
       "   Min Screen Height  Max Screen Height  Camera Cuts  \n",
       "0                  1                  1            0  \n",
       "1                  1                  3            1  \n",
       "2                  2                  2            0  \n",
       "3                  1                  3            1  \n",
       "4                  1                  3            1  "
      ]
     },
     "execution_count": 11,
     "metadata": {},
     "output_type": "execute_result"
    }
   ],
   "source": [
    "df = data.iloc[:, 1:]\n",
    "df.drop('Degree of Control Delta', axis=1, inplace=True)\n",
    "df.head()"
   ]
  },
  {
   "cell_type": "markdown",
   "id": "549dc5c5-a8b0-4e36-9433-c3177fdfbd62",
   "metadata": {},
   "source": [
    "# Distance calculation"
   ]
  },
  {
   "cell_type": "code",
   "execution_count": 12,
   "id": "87b9af1e-4e1a-45ea-ac6e-e136bb0b395b",
   "metadata": {},
   "outputs": [],
   "source": [
    "# Calculate the Gower distance\n",
    "# https://medium.com/analytics-vidhya/concept-of-gowers-distance-and-it-s-application-using-python-b08cf6139ac2\n",
    "columns = df.columns\n",
    "total = DistanceMetric.get_metric('manhattan').pairwise(df[[columns[0]]])\n",
    "total = total / max(np.ptp(df[columns[0]]),1)\n",
    "for i in columns[1:]:\n",
    "    mat = DistanceMetric.get_metric('manhattan').pairwise(df[[i]])\n",
    "    mat = mat / max(np.ptp(df[i]),1)\n",
    "    total += mat\n",
    "    assert total[0][0] == 0\n",
    "distances = total / len(columns)"
   ]
  },
  {
   "cell_type": "code",
   "execution_count": 13,
   "id": "7ee7139a-a4ae-4bee-b517-653c3a929cdd",
   "metadata": {},
   "outputs": [
    {
     "data": {
      "image/png": "[encoded data removed]",
      "text/plain": [
       "<Figure size 640x480 with 2 Axes>"
      ]
     },
     "metadata": {},
     "output_type": "display_data"
    }
   ],
   "source": [
    "# Gower matrix visualization\n",
    "plt.imshow(distances, cmap=\"viridis\", aspect=\"auto\")\n",
    "plt.colorbar(label=\"Value\")\n",
    "plt.show()"
   ]
  },
  {
   "cell_type": "markdown",
   "id": "1a22302a-1207-4899-9415-81055dd6df17",
   "metadata": {},
   "source": [
    "In the above chart, higher values correspond to greater differences between the objects"
   ]
  },
  {
   "cell_type": "code",
   "execution_count": 14,
   "id": "830bb5b2-07f8-4707-867a-289c8c069bb1",
   "metadata": {},
   "outputs": [
    {
     "data": {
      "text/html": [
       "<div>\n",
       "<style scoped>\n",
       "    .dataframe tbody tr th:only-of-type {\n",
       "        vertical-align: middle;\n",
       "    }\n",
       "\n",
       "    .dataframe tbody tr th {\n",
       "        vertical-align: top;\n",
       "    }\n",
       "\n",
       "    .dataframe thead th {\n",
       "        text-align: right;\n",
       "    }\n",
       "</style>\n",
       "<table border=\"1\" class=\"dataframe\">\n",
       "  <thead>\n",
       "    <tr style=\"text-align: right;\">\n",
       "      <th></th>\n",
       "      <th>0</th>\n",
       "      <th>1</th>\n",
       "      <th>2</th>\n",
       "      <th>3</th>\n",
       "      <th>4</th>\n",
       "      <th>5</th>\n",
       "      <th>6</th>\n",
       "      <th>7</th>\n",
       "      <th>8</th>\n",
       "      <th>9</th>\n",
       "      <th>...</th>\n",
       "      <th>40</th>\n",
       "      <th>41</th>\n",
       "      <th>42</th>\n",
       "      <th>43</th>\n",
       "      <th>44</th>\n",
       "      <th>45</th>\n",
       "      <th>46</th>\n",
       "      <th>47</th>\n",
       "      <th>48</th>\n",
       "      <th>49</th>\n",
       "    </tr>\n",
       "  </thead>\n",
       "  <tbody>\n",
       "    <tr>\n",
       "      <th>count</th>\n",
       "      <td>50.00000</td>\n",
       "      <td>50.000000</td>\n",
       "      <td>50.000000</td>\n",
       "      <td>50.000000</td>\n",
       "      <td>50.000000</td>\n",
       "      <td>50.000000</td>\n",
       "      <td>50.000000</td>\n",
       "      <td>50.000000</td>\n",
       "      <td>50.000000</td>\n",
       "      <td>50.000000</td>\n",
       "      <td>...</td>\n",
       "      <td>50.000000</td>\n",
       "      <td>50.000000</td>\n",
       "      <td>50.000000</td>\n",
       "      <td>50.000000</td>\n",
       "      <td>50.000000</td>\n",
       "      <td>50.000000</td>\n",
       "      <td>50.000000</td>\n",
       "      <td>50.000000</td>\n",
       "      <td>50.000000</td>\n",
       "      <td>50.000000</td>\n",
       "    </tr>\n",
       "    <tr>\n",
       "      <th>mean</th>\n",
       "      <td>0.35300</td>\n",
       "      <td>0.386800</td>\n",
       "      <td>0.424800</td>\n",
       "      <td>0.380000</td>\n",
       "      <td>0.380000</td>\n",
       "      <td>0.424800</td>\n",
       "      <td>0.368000</td>\n",
       "      <td>0.374800</td>\n",
       "      <td>0.346800</td>\n",
       "      <td>0.302600</td>\n",
       "      <td>...</td>\n",
       "      <td>0.358800</td>\n",
       "      <td>0.478000</td>\n",
       "      <td>0.391600</td>\n",
       "      <td>0.337600</td>\n",
       "      <td>0.324000</td>\n",
       "      <td>0.384000</td>\n",
       "      <td>0.361600</td>\n",
       "      <td>0.362800</td>\n",
       "      <td>0.384000</td>\n",
       "      <td>0.364800</td>\n",
       "    </tr>\n",
       "    <tr>\n",
       "      <th>std</th>\n",
       "      <td>0.20447</td>\n",
       "      <td>0.166251</td>\n",
       "      <td>0.168384</td>\n",
       "      <td>0.156609</td>\n",
       "      <td>0.129268</td>\n",
       "      <td>0.168384</td>\n",
       "      <td>0.214647</td>\n",
       "      <td>0.148757</td>\n",
       "      <td>0.170745</td>\n",
       "      <td>0.152577</td>\n",
       "      <td>...</td>\n",
       "      <td>0.183165</td>\n",
       "      <td>0.187769</td>\n",
       "      <td>0.131826</td>\n",
       "      <td>0.182729</td>\n",
       "      <td>0.161624</td>\n",
       "      <td>0.219415</td>\n",
       "      <td>0.207859</td>\n",
       "      <td>0.153121</td>\n",
       "      <td>0.219415</td>\n",
       "      <td>0.148124</td>\n",
       "    </tr>\n",
       "    <tr>\n",
       "      <th>min</th>\n",
       "      <td>0.00000</td>\n",
       "      <td>0.000000</td>\n",
       "      <td>0.000000</td>\n",
       "      <td>0.000000</td>\n",
       "      <td>0.000000</td>\n",
       "      <td>0.000000</td>\n",
       "      <td>0.000000</td>\n",
       "      <td>0.000000</td>\n",
       "      <td>0.000000</td>\n",
       "      <td>0.000000</td>\n",
       "      <td>...</td>\n",
       "      <td>0.000000</td>\n",
       "      <td>0.000000</td>\n",
       "      <td>0.000000</td>\n",
       "      <td>0.000000</td>\n",
       "      <td>0.000000</td>\n",
       "      <td>0.000000</td>\n",
       "      <td>0.000000</td>\n",
       "      <td>0.000000</td>\n",
       "      <td>0.000000</td>\n",
       "      <td>0.000000</td>\n",
       "    </tr>\n",
       "    <tr>\n",
       "      <th>25%</th>\n",
       "      <td>0.17500</td>\n",
       "      <td>0.227500</td>\n",
       "      <td>0.320000</td>\n",
       "      <td>0.281250</td>\n",
       "      <td>0.350000</td>\n",
       "      <td>0.320000</td>\n",
       "      <td>0.150000</td>\n",
       "      <td>0.296250</td>\n",
       "      <td>0.200000</td>\n",
       "      <td>0.225000</td>\n",
       "      <td>...</td>\n",
       "      <td>0.237500</td>\n",
       "      <td>0.335000</td>\n",
       "      <td>0.316250</td>\n",
       "      <td>0.220000</td>\n",
       "      <td>0.250000</td>\n",
       "      <td>0.205000</td>\n",
       "      <td>0.170000</td>\n",
       "      <td>0.276250</td>\n",
       "      <td>0.205000</td>\n",
       "      <td>0.270000</td>\n",
       "    </tr>\n",
       "    <tr>\n",
       "      <th>50%</th>\n",
       "      <td>0.39000</td>\n",
       "      <td>0.397500</td>\n",
       "      <td>0.442500</td>\n",
       "      <td>0.417500</td>\n",
       "      <td>0.387500</td>\n",
       "      <td>0.442500</td>\n",
       "      <td>0.415000</td>\n",
       "      <td>0.365000</td>\n",
       "      <td>0.320000</td>\n",
       "      <td>0.307500</td>\n",
       "      <td>...</td>\n",
       "      <td>0.375000</td>\n",
       "      <td>0.442500</td>\n",
       "      <td>0.425000</td>\n",
       "      <td>0.345000</td>\n",
       "      <td>0.332500</td>\n",
       "      <td>0.405000</td>\n",
       "      <td>0.395000</td>\n",
       "      <td>0.370000</td>\n",
       "      <td>0.405000</td>\n",
       "      <td>0.370000</td>\n",
       "    </tr>\n",
       "    <tr>\n",
       "      <th>75%</th>\n",
       "      <td>0.48875</td>\n",
       "      <td>0.515000</td>\n",
       "      <td>0.565000</td>\n",
       "      <td>0.473750</td>\n",
       "      <td>0.473750</td>\n",
       "      <td>0.565000</td>\n",
       "      <td>0.513750</td>\n",
       "      <td>0.443750</td>\n",
       "      <td>0.483750</td>\n",
       "      <td>0.393750</td>\n",
       "      <td>...</td>\n",
       "      <td>0.465000</td>\n",
       "      <td>0.650000</td>\n",
       "      <td>0.508750</td>\n",
       "      <td>0.460000</td>\n",
       "      <td>0.413750</td>\n",
       "      <td>0.572500</td>\n",
       "      <td>0.510000</td>\n",
       "      <td>0.465000</td>\n",
       "      <td>0.572500</td>\n",
       "      <td>0.465000</td>\n",
       "    </tr>\n",
       "    <tr>\n",
       "      <th>max</th>\n",
       "      <td>0.77500</td>\n",
       "      <td>0.665000</td>\n",
       "      <td>0.665000</td>\n",
       "      <td>0.600000</td>\n",
       "      <td>0.565000</td>\n",
       "      <td>0.665000</td>\n",
       "      <td>0.800000</td>\n",
       "      <td>0.695000</td>\n",
       "      <td>0.640000</td>\n",
       "      <td>0.655000</td>\n",
       "      <td>...</td>\n",
       "      <td>0.640000</td>\n",
       "      <td>0.800000</td>\n",
       "      <td>0.585000</td>\n",
       "      <td>0.730000</td>\n",
       "      <td>0.700000</td>\n",
       "      <td>0.685000</td>\n",
       "      <td>0.780000</td>\n",
       "      <td>0.615000</td>\n",
       "      <td>0.685000</td>\n",
       "      <td>0.645000</td>\n",
       "    </tr>\n",
       "  </tbody>\n",
       "</table>\n",
       "<p>8 rows × 50 columns</p>\n",
       "</div>"
      ],
      "text/plain": [
       "             0          1          2          3          4          5   \\\n",
       "count  50.00000  50.000000  50.000000  50.000000  50.000000  50.000000   \n",
       "mean    0.35300   0.386800   0.424800   0.380000   0.380000   0.424800   \n",
       "std     0.20447   0.166251   0.168384   0.156609   0.129268   0.168384   \n",
       "min     0.00000   0.000000   0.000000   0.000000   0.000000   0.000000   \n",
       "25%     0.17500   0.227500   0.320000   0.281250   0.350000   0.320000   \n",
       "50%     0.39000   0.397500   0.442500   0.417500   0.387500   0.442500   \n",
       "75%     0.48875   0.515000   0.565000   0.473750   0.473750   0.565000   \n",
       "max     0.77500   0.665000   0.665000   0.600000   0.565000   0.665000   \n",
       "\n",
       "              6          7          8          9   ...         40         41  \\\n",
       "count  50.000000  50.000000  50.000000  50.000000  ...  50.000000  50.000000   \n",
       "mean    0.368000   0.374800   0.346800   0.302600  ...   0.358800   0.478000   \n",
       "std     0.214647   0.148757   0.170745   0.152577  ...   0.183165   0.187769   \n",
       "min     0.000000   0.000000   0.000000   0.000000  ...   0.000000   0.000000   \n",
       "25%     0.150000   0.296250   0.200000   0.225000  ...   0.237500   0.335000   \n",
       "50%     0.415000   0.365000   0.320000   0.307500  ...   0.375000   0.442500   \n",
       "75%     0.513750   0.443750   0.483750   0.393750  ...   0.465000   0.650000   \n",
       "max     0.800000   0.695000   0.640000   0.655000  ...   0.640000   0.800000   \n",
       "\n",
       "              42         43         44         45         46         47  \\\n",
       "count  50.000000  50.000000  50.000000  50.000000  50.000000  50.000000   \n",
       "mean    0.391600   0.337600   0.324000   0.384000   0.361600   0.362800   \n",
       "std     0.131826   0.182729   0.161624   0.219415   0.207859   0.153121   \n",
       "min     0.000000   0.000000   0.000000   0.000000   0.000000   0.000000   \n",
       "25%     0.316250   0.220000   0.250000   0.205000   0.170000   0.276250   \n",
       "50%     0.425000   0.345000   0.332500   0.405000   0.395000   0.370000   \n",
       "75%     0.508750   0.460000   0.413750   0.572500   0.510000   0.465000   \n",
       "max     0.585000   0.730000   0.700000   0.685000   0.780000   0.615000   \n",
       "\n",
       "              48         49  \n",
       "count  50.000000  50.000000  \n",
       "mean    0.384000   0.364800  \n",
       "std     0.219415   0.148124  \n",
       "min     0.000000   0.000000  \n",
       "25%     0.205000   0.270000  \n",
       "50%     0.405000   0.370000  \n",
       "75%     0.572500   0.465000  \n",
       "max     0.685000   0.645000  \n",
       "\n",
       "[8 rows x 50 columns]"
      ]
     },
     "execution_count": 14,
     "metadata": {},
     "output_type": "execute_result"
    }
   ],
   "source": [
    "distanceMatrix = pd.DataFrame(distances)\n",
    "distanceMatrix.describe()"
   ]
  },
  {
   "cell_type": "markdown",
   "id": "88c3ddf1-0a0b-4315-952c-f66977ba4eec",
   "metadata": {},
   "source": [
    "# Result Gathering\n",
    "\n",
    "## Analyze which clustering parameters make the best grouping"
   ]
  },
  {
   "cell_type": "code",
   "execution_count": 15,
   "id": "985467e2-78c1-47ab-a292-16eb9a87a000",
   "metadata": {},
   "outputs": [],
   "source": [
    "hyperParams = [3,4,5,6,7,8,9,10]\n",
    "X = df.to_numpy()"
   ]
  },
  {
   "cell_type": "code",
   "execution_count": 41,
   "id": "8be1357d-776a-426b-a432-db02fae09d00",
   "metadata": {},
   "outputs": [
    {
     "name": "stdout",
     "output_type": "stream",
     "text": [
      "10\n",
      "[-1  0  1  2  3  4  5  6  7  8]\n",
      "5\n",
      "[-1  0  1  2  3]\n",
      "4\n",
      "[-1  0  1  2]\n",
      "4\n",
      "[-1  0  1  2]\n",
      "4\n",
      "[-1  0  1  2]\n",
      "3\n",
      "[-1  0  1]\n",
      "3\n",
      "[-1  0  1]\n",
      "1\n",
      "[-1]\n"
     ]
    },
    {
     "name": "stderr",
     "output_type": "stream",
     "text": [
      "C:\\Users\\eescu\\AppData\\Local\\Temp\\ipykernel_5760\\2465679720.py:43: RuntimeWarning: invalid value encountered in scalar divide\n",
      "  return numerator / denominator\n"
     ]
    }
   ],
   "source": [
    "validities = []\n",
    "for p in hyperParams:\n",
    "    # Perform the clustering\n",
    "    clustering = HDBSCAN(min_cluster_size=p,metric=\"precomputed\")\n",
    "    clustering.fit(distances.copy())\n",
    "    print(len(np.unique(clustering.labels_)))\n",
    "    print(np.unique(clustering.labels_))\n",
    "    \n",
    "    # Run DBCV\n",
    "    # Calculate the mutual reachability distance graph. This is a complete graph\n",
    "    graph = reach_distance_graph(X, clustering.labels_, distances)\n",
    "    # Calculate the mutual reachability distance MSTs\n",
    "    msts = {}\n",
    "    for label in np.unique(clustering.labels_):\n",
    "        mst = mutual_reach_dist_mst(graph, clustering.labels_, label)\n",
    "        msts[label] = mst\n",
    "    # Calculate the validity index [-1, 1]\n",
    "    validities.append(get_validity_index(graph, msts, clustering.labels_, X.shape[0]))"
   ]
  },
  {
   "cell_type": "code",
   "execution_count": 47,
   "id": "c5f61056-0c96-495c-b1f5-ffd3e5385948",
   "metadata": {},
   "outputs": [
    {
     "data": {
      "text/plain": [
       "np.float64(-0.04857569693717929)"
      ]
     },
     "execution_count": 47,
     "metadata": {},
     "output_type": "execute_result"
    }
   ],
   "source": [
    "sum(validities[:-1]) / len(validities[:-1])"
   ]
  },
  {
   "cell_type": "code",
   "execution_count": 45,
   "id": "195a3b0b-5648-4efa-acaa-e6537a4eaa76",
   "metadata": {},
   "outputs": [
    {
     "data": {
      "text/plain": [
       "[np.float64(0.22927542513261828),\n",
       " np.float64(0.11186506437605032),\n",
       " np.float64(-0.06189145828747141),\n",
       " np.float64(-0.18864421401083034),\n",
       " np.float64(-0.17344775163875661),\n",
       " np.float64(-0.19961286131194922),\n",
       " np.float64(-0.05757408281991602),\n",
       " np.float64(nan)]"
      ]
     },
     "execution_count": 45,
     "metadata": {},
     "output_type": "execute_result"
    }
   ],
   "source": [
    "validities "
   ]
  },
  {
   "cell_type": "markdown",
   "id": "681028ff-792c-45a8-99e8-04c1ef497a4f",
   "metadata": {},
   "source": [
    "## Analyze each cluster in the best grouping case"
   ]
  },
  {
   "cell_type": "code",
   "execution_count": 27,
   "id": "1eaa8cf8-01dc-42dd-b80f-4f796a9f010d",
   "metadata": {},
   "outputs": [
    {
     "data": {
      "text/plain": [
       "Text(0, 0.5, 'DBCV Value')"
      ]
     },
     "execution_count": 27,
     "metadata": {},
     "output_type": "execute_result"
    },
    {
     "data": {
      "image/png": "[encoded data removed]",
      "text/plain": [
       "<Figure size 640x480 with 1 Axes>"
      ]
     },
     "metadata": {},
     "output_type": "display_data"
    }
   ],
   "source": [
    "plt.plot(hyperParams, validities)\n",
    "plt.title(\"DBCV values\")\n",
    "plt.xlabel(\"Number of clusters\")\n",
    "plt.ylabel(\"DBCV Value\")"
   ]
  },
  {
   "cell_type": "code",
   "execution_count": 51,
   "id": "903670cf-fae5-419b-8b8d-cc01a796d0ae",
   "metadata": {},
   "outputs": [],
   "source": [
    "clustering = HDBSCAN(min_cluster_size=3,metric=\"precomputed\")\n",
    "clustering.fit(distances.copy())\n",
    "\n",
    "validities = []\n",
    "graph = reach_distance_graph(X, clustering.labels_, distances)\n",
    "msts = {}\n",
    "for label in np.unique(clustering.labels_):\n",
    "    mst = mutual_reach_dist_mst(graph, clustering.labels_, label)\n",
    "    msts[label] = mst\n",
    "for label in np.unique(clustering.labels_):\n",
    "    validities.append(cluster_validity_index(graph, msts, clustering.labels_, label))"
   ]
  },
  {
   "cell_type": "code",
   "execution_count": 37,
   "id": "363aba64-761e-410e-a7c6-4cca1f49f1ab",
   "metadata": {},
   "outputs": [
    {
     "data": {
      "text/plain": [
       "labels\n",
       " 0    8\n",
       " 1    6\n",
       " 5    6\n",
       "-1    6\n",
       " 8    6\n",
       " 2    5\n",
       " 4    4\n",
       " 6    3\n",
       " 7    3\n",
       " 3    3\n",
       "Name: count, dtype: int64"
      ]
     },
     "execution_count": 37,
     "metadata": {},
     "output_type": "execute_result"
    }
   ],
   "source": [
    "data['labels'] = clustering.labels_\n",
    "data['labels'].value_counts()"
   ]
  },
  {
   "cell_type": "code",
   "execution_count": 35,
   "id": "f10233e9-fef8-416a-bc9f-1f34c734d608",
   "metadata": {},
   "outputs": [
    {
     "data": {
      "text/plain": [
       "Text(0, 0.5, 'Validity Value')"
      ]
     },
     "execution_count": 35,
     "metadata": {},
     "output_type": "execute_result"
    },
    {
     "data": {
      "image/png": "[encoded data removed]",
      "text/plain": [
       "<Figure size 640x480 with 1 Axes>"
      ]
     },
     "metadata": {},
     "output_type": "display_data"
    }
   ],
   "source": [
    "fig, ax = plt.subplots()\n",
    "ax.plot(np.unique(clustering.labels_), validities)\n",
    "ax.set_title(\"Cluster Validity\")\n",
    "ax.set_xlabel(\"Cluster\")\n",
    "ax.set_xticks(np.unique(clustering.labels_))\n",
    "ax.set_ylabel(\"Validity Value\")"
   ]
  },
  {
   "cell_type": "code",
   "execution_count": 40,
   "id": "8d09fdbf-5189-4670-9564-030abeec5fc5",
   "metadata": {},
   "outputs": [
    {
     "data": {
      "text/plain": [
       "Text(0, 0.5, 'Validity Value')"
      ]
     },
     "execution_count": 40,
     "metadata": {},
     "output_type": "execute_result"
    },
    {
     "data": {
      "image/png": "[encoded data removed]",
      "text/plain": [
       "<Figure size 640x480 with 1 Axes>"
      ]
     },
     "metadata": {},
     "output_type": "display_data"
    }
   ],
   "source": [
    "fig, ax = plt.subplots()\n",
    "ax.scatter([6,8,6,5,3,4,6,3,3,6], validities)\n",
    "ax.set_title(\"Scatter plot of validity by cluster size\")\n",
    "ax.set_xlabel(\"Cluster size\")\n",
    "ax.set_ylabel(\"Validity Value\")"
   ]
  },
  {
   "cell_type": "code",
   "execution_count": 72,
   "id": "ea949a06-7410-47f6-95a3-586049bcc299",
   "metadata": {},
   "outputs": [
    {
     "data": {
      "text/html": [
       "<div>\n",
       "<style scoped>\n",
       "    .dataframe tbody tr th:only-of-type {\n",
       "        vertical-align: middle;\n",
       "    }\n",
       "\n",
       "    .dataframe tbody tr th {\n",
       "        vertical-align: top;\n",
       "    }\n",
       "\n",
       "    .dataframe thead th {\n",
       "        text-align: right;\n",
       "    }\n",
       "</style>\n",
       "<table border=\"1\" class=\"dataframe\">\n",
       "  <thead>\n",
       "    <tr style=\"text-align: right;\">\n",
       "      <th></th>\n",
       "      <th>Game</th>\n",
       "      <th>Persp/Ortho</th>\n",
       "      <th>Degrees of Freedom</th>\n",
       "      <th>Degrees of Control</th>\n",
       "      <th>Degree of Control Delta</th>\n",
       "      <th>Camera Control Varies</th>\n",
       "      <th>Has Z-Targeting</th>\n",
       "      <th>Min Screen Vert Third</th>\n",
       "      <th>Max Screen Vert Third</th>\n",
       "      <th>Min Screen Height</th>\n",
       "      <th>Max Screen Height</th>\n",
       "      <th>Camera Cuts</th>\n",
       "      <th>labels</th>\n",
       "    </tr>\n",
       "  </thead>\n",
       "  <tbody>\n",
       "    <tr>\n",
       "      <th>2</th>\n",
       "      <td>God of War (Norse Era)</td>\n",
       "      <td>1</td>\n",
       "      <td>5</td>\n",
       "      <td>2</td>\n",
       "      <td>3</td>\n",
       "      <td>1</td>\n",
       "      <td>1</td>\n",
       "      <td>1</td>\n",
       "      <td>1</td>\n",
       "      <td>2</td>\n",
       "      <td>2</td>\n",
       "      <td>0</td>\n",
       "      <td>6</td>\n",
       "    </tr>\n",
       "    <tr>\n",
       "      <th>5</th>\n",
       "      <td>Ghost of Tsushima</td>\n",
       "      <td>1</td>\n",
       "      <td>5</td>\n",
       "      <td>2</td>\n",
       "      <td>3</td>\n",
       "      <td>1</td>\n",
       "      <td>1</td>\n",
       "      <td>1</td>\n",
       "      <td>1</td>\n",
       "      <td>2</td>\n",
       "      <td>2</td>\n",
       "      <td>0</td>\n",
       "      <td>6</td>\n",
       "    </tr>\n",
       "    <tr>\n",
       "      <th>16</th>\n",
       "      <td>Dead Space II</td>\n",
       "      <td>1</td>\n",
       "      <td>6</td>\n",
       "      <td>3</td>\n",
       "      <td>3</td>\n",
       "      <td>1</td>\n",
       "      <td>0</td>\n",
       "      <td>1</td>\n",
       "      <td>1</td>\n",
       "      <td>2</td>\n",
       "      <td>2</td>\n",
       "      <td>0</td>\n",
       "      <td>6</td>\n",
       "    </tr>\n",
       "  </tbody>\n",
       "</table>\n",
       "</div>"
      ],
      "text/plain": [
       "                      Game  Persp/Ortho  Degrees of Freedom  \\\n",
       "2   God of War (Norse Era)            1                   5   \n",
       "5        Ghost of Tsushima            1                   5   \n",
       "16           Dead Space II            1                   6   \n",
       "\n",
       "    Degrees of Control  Degree of Control Delta  Camera Control Varies  \\\n",
       "2                    2                        3                      1   \n",
       "5                    2                        3                      1   \n",
       "16                   3                        3                      1   \n",
       "\n",
       "    Has Z-Targeting  Min Screen Vert Third  Max Screen Vert Third  \\\n",
       "2                 1                      1                      1   \n",
       "5                 1                      1                      1   \n",
       "16                0                      1                      1   \n",
       "\n",
       "    Min Screen Height  Max Screen Height  Camera Cuts  labels  \n",
       "2                   2                  2            0       6  \n",
       "5                   2                  2            0       6  \n",
       "16                  2                  2            0       6  "
      ]
     },
     "execution_count": 72,
     "metadata": {},
     "output_type": "execute_result"
    }
   ],
   "source": [
    "data.loc[data['labels']==6]"
   ]
  },
  {
   "cell_type": "code",
   "execution_count": 52,
   "id": "35771b15-6dc7-4b3d-b36c-c3c3e29d19d6",
   "metadata": {},
   "outputs": [
    {
     "data": {
      "text/plain": [
       "[np.float64(-0.19307202255068243),\n",
       " np.float64(0.1640012951387567),\n",
       " np.float64(0.40596666456230507),\n",
       " np.float64(0.4874915014838384),\n",
       " np.float64(0.9959183673469387),\n",
       " np.float64(-0.15510815630804162),\n",
       " np.float64(-0.09071495801849433),\n",
       " np.float64(0.0),\n",
       " np.float64(0.7675393633353219),\n",
       " np.float64(0.38521411955471374)]"
      ]
     },
     "execution_count": 52,
     "metadata": {},
     "output_type": "execute_result"
    }
   ],
   "source": [
    "validities"
   ]
  },
  {
   "cell_type": "code",
   "execution_count": 74,
   "id": "3fe02bf1-48c8-4ec5-8630-fdfc5a1628ba",
   "metadata": {},
   "outputs": [
    {
     "data": {
      "text/plain": [
       "array([0.64 , 0.4  , 0.   , 0.515, 0.565, 0.   , 0.665, 0.4  , 0.2  ,\n",
       "       0.52 , 0.615, 0.495, 0.47 , 0.445, 0.32 , 0.4  , 0.145, 0.25 ,\n",
       "       0.25 , 0.2  , 0.495, 0.415, 0.44 , 0.54 , 0.59 , 0.42 , 0.615,\n",
       "       0.62 , 0.57 , 0.22 , 0.25 , 0.615, 0.49 , 0.3  , 0.515, 0.475,\n",
       "       0.515, 0.345, 0.4  , 0.4  , 0.425, 0.335, 0.32 , 0.595, 0.565,\n",
       "       0.615, 0.645, 0.15 , 0.615, 0.25 ])"
      ]
     },
     "execution_count": 74,
     "metadata": {},
     "output_type": "execute_result"
    }
   ],
   "source": [
    "msts[6]\n",
    "distances[2, :]"
   ]
  }
 ],
 "metadata": {
  "kernelspec": {
   "display_name": "Python 3 (ipykernel)",
   "language": "python",
   "name": "python3"
  },
  "language_info": {
   "codemirror_mode": {
    "name": "ipython",
    "version": 3
   },
   "file_extension": ".py",
   "mimetype": "text/x-python",
   "name": "python",
   "nbconvert_exporter": "python",
   "pygments_lexer": "ipython3",
   "version": "3.13.0"
  }
 },
 "nbformat": 4,
 "nbformat_minor": 5
}
